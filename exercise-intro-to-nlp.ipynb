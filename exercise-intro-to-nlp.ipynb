{
 "cells": [
  {
   "cell_type": "markdown",
   "id": "brown-internship",
   "metadata": {
    "papermill": {
     "duration": 0.018903,
     "end_time": "2021-05-17T11:28:05.022117",
     "exception": false,
     "start_time": "2021-05-17T11:28:05.003214",
     "status": "completed"
    },
    "tags": []
   },
   "source": [
    "**This notebook is an exercise in the [Natural Language Processing](https://www.kaggle.com/learn/natural-language-processing) course.  You can reference the tutorial at [this link](https://www.kaggle.com/matleonard/intro-to-nlp).**\n",
    "\n",
    "---\n"
   ]
  },
  {
   "cell_type": "markdown",
   "id": "fleet-lunch",
   "metadata": {
    "papermill": {
     "duration": 0.017266,
     "end_time": "2021-05-17T11:28:05.057207",
     "exception": false,
     "start_time": "2021-05-17T11:28:05.039941",
     "status": "completed"
    },
    "tags": []
   },
   "source": [
    "# Basic Text Processing with Spacy\n",
    "    \n",
    "You're a consultant for [DelFalco's Italian Restaurant](https://defalcosdeli.com/index.html).\n",
    "The owner asked you to identify whether there are any foods on their menu that diners find disappointing. \n",
    "\n",
    "<img src=\"https://i.imgur.com/8DZunAQ.jpg\" alt=\"Meatball Sub\" width=\"250\"/>\n",
    "\n",
    "Before getting started, run the following cell to set up code checking."
   ]
  },
  {
   "cell_type": "code",
   "execution_count": 1,
   "id": "bacterial-delta",
   "metadata": {
    "execution": {
     "iopub.execute_input": "2021-05-17T11:28:05.099663Z",
     "iopub.status.busy": "2021-05-17T11:28:05.098370Z",
     "iopub.status.idle": "2021-05-17T11:28:05.156463Z",
     "shell.execute_reply": "2021-05-17T11:28:05.157260Z"
    },
    "papermill": {
     "duration": 0.082065,
     "end_time": "2021-05-17T11:28:05.157626",
     "exception": false,
     "start_time": "2021-05-17T11:28:05.075561",
     "status": "completed"
    },
    "tags": []
   },
   "outputs": [
    {
     "name": "stdout",
     "output_type": "stream",
     "text": [
      "Setup Complete\n"
     ]
    }
   ],
   "source": [
    "import pandas as pd\n",
    "\n",
    "# Set up code checking\n",
    "from learntools.core import binder\n",
    "binder.bind(globals())\n",
    "from learntools.nlp.ex1 import *\n",
    "print('Setup Complete')"
   ]
  },
  {
   "cell_type": "markdown",
   "id": "pretty-terry",
   "metadata": {
    "papermill": {
     "duration": 0.018118,
     "end_time": "2021-05-17T11:28:05.196082",
     "exception": false,
     "start_time": "2021-05-17T11:28:05.177964",
     "status": "completed"
    },
    "tags": []
   },
   "source": [
    "The business owner suggested you use diner reviews from the Yelp website to determine which dishes people liked and disliked. You pulled the data from Yelp. Before you get to analysis, run the code cell below for a quick look at the data you have to work with."
   ]
  },
  {
   "cell_type": "code",
   "execution_count": 2,
   "id": "spatial-navigator",
   "metadata": {
    "execution": {
     "iopub.execute_input": "2021-05-17T11:28:05.239100Z",
     "iopub.status.busy": "2021-05-17T11:28:05.238393Z",
     "iopub.status.idle": "2021-05-17T11:28:05.364944Z",
     "shell.execute_reply": "2021-05-17T11:28:05.364401Z"
    },
    "papermill": {
     "duration": 0.149256,
     "end_time": "2021-05-17T11:28:05.365100",
     "exception": false,
     "start_time": "2021-05-17T11:28:05.215844",
     "status": "completed"
    },
    "tags": []
   },
   "outputs": [
    {
     "data": {
      "text/html": [
       "<div>\n",
       "<style scoped>\n",
       "    .dataframe tbody tr th:only-of-type {\n",
       "        vertical-align: middle;\n",
       "    }\n",
       "\n",
       "    .dataframe tbody tr th {\n",
       "        vertical-align: top;\n",
       "    }\n",
       "\n",
       "    .dataframe thead th {\n",
       "        text-align: right;\n",
       "    }\n",
       "</style>\n",
       "<table border=\"1\" class=\"dataframe\">\n",
       "  <thead>\n",
       "    <tr style=\"text-align: right;\">\n",
       "      <th></th>\n",
       "      <th>review_id</th>\n",
       "      <th>user_id</th>\n",
       "      <th>business_id</th>\n",
       "      <th>stars</th>\n",
       "      <th>useful</th>\n",
       "      <th>funny</th>\n",
       "      <th>cool</th>\n",
       "      <th>text</th>\n",
       "      <th>date</th>\n",
       "    </tr>\n",
       "  </thead>\n",
       "  <tbody>\n",
       "    <tr>\n",
       "      <th>109</th>\n",
       "      <td>lDJIaF4eYRF4F7g6Zb9euw</td>\n",
       "      <td>lb0QUR5bc4O-Am4hNq9ZGg</td>\n",
       "      <td>r5PLDU-4mSbde5XekTXSCA</td>\n",
       "      <td>4</td>\n",
       "      <td>2</td>\n",
       "      <td>0</td>\n",
       "      <td>0</td>\n",
       "      <td>I used to work food service and my manager at ...</td>\n",
       "      <td>2013-01-27 17:54:54</td>\n",
       "    </tr>\n",
       "    <tr>\n",
       "      <th>1013</th>\n",
       "      <td>vvIzf3pr8lTqE_AOsxmgaA</td>\n",
       "      <td>MAmijW4ooUzujkufYYLMeQ</td>\n",
       "      <td>r5PLDU-4mSbde5XekTXSCA</td>\n",
       "      <td>4</td>\n",
       "      <td>0</td>\n",
       "      <td>0</td>\n",
       "      <td>0</td>\n",
       "      <td>We have been trying Eggplant sandwiches all ov...</td>\n",
       "      <td>2015-04-15 04:50:56</td>\n",
       "    </tr>\n",
       "    <tr>\n",
       "      <th>1204</th>\n",
       "      <td>UF-JqzMczZ8vvp_4tPK3bQ</td>\n",
       "      <td>slfi6gf_qEYTXy90Sw93sg</td>\n",
       "      <td>r5PLDU-4mSbde5XekTXSCA</td>\n",
       "      <td>5</td>\n",
       "      <td>1</td>\n",
       "      <td>0</td>\n",
       "      <td>0</td>\n",
       "      <td>Amazing Steak and Cheese... Better than any Ph...</td>\n",
       "      <td>2011-03-20 00:57:45</td>\n",
       "    </tr>\n",
       "    <tr>\n",
       "      <th>1251</th>\n",
       "      <td>geUJGrKhXynxDC2uvERsLw</td>\n",
       "      <td>N_-UepOzAsuDQwOUtfRFGw</td>\n",
       "      <td>r5PLDU-4mSbde5XekTXSCA</td>\n",
       "      <td>1</td>\n",
       "      <td>0</td>\n",
       "      <td>0</td>\n",
       "      <td>0</td>\n",
       "      <td>Although I have been going to DeFalco's for ye...</td>\n",
       "      <td>2018-07-17 01:48:23</td>\n",
       "    </tr>\n",
       "    <tr>\n",
       "      <th>1354</th>\n",
       "      <td>aPctXPeZW3kDq36TRm-CqA</td>\n",
       "      <td>139hD7gkZVzSvSzDPwhNNw</td>\n",
       "      <td>r5PLDU-4mSbde5XekTXSCA</td>\n",
       "      <td>2</td>\n",
       "      <td>0</td>\n",
       "      <td>0</td>\n",
       "      <td>0</td>\n",
       "      <td>Highs: Ambience, value, pizza and deserts. Thi...</td>\n",
       "      <td>2018-01-21 10:52:58</td>\n",
       "    </tr>\n",
       "  </tbody>\n",
       "</table>\n",
       "</div>"
      ],
      "text/plain": [
       "                   review_id                 user_id             business_id  \\\n",
       "109   lDJIaF4eYRF4F7g6Zb9euw  lb0QUR5bc4O-Am4hNq9ZGg  r5PLDU-4mSbde5XekTXSCA   \n",
       "1013  vvIzf3pr8lTqE_AOsxmgaA  MAmijW4ooUzujkufYYLMeQ  r5PLDU-4mSbde5XekTXSCA   \n",
       "1204  UF-JqzMczZ8vvp_4tPK3bQ  slfi6gf_qEYTXy90Sw93sg  r5PLDU-4mSbde5XekTXSCA   \n",
       "1251  geUJGrKhXynxDC2uvERsLw  N_-UepOzAsuDQwOUtfRFGw  r5PLDU-4mSbde5XekTXSCA   \n",
       "1354  aPctXPeZW3kDq36TRm-CqA  139hD7gkZVzSvSzDPwhNNw  r5PLDU-4mSbde5XekTXSCA   \n",
       "\n",
       "      stars  useful  funny  cool  \\\n",
       "109       4       2      0     0   \n",
       "1013      4       0      0     0   \n",
       "1204      5       1      0     0   \n",
       "1251      1       0      0     0   \n",
       "1354      2       0      0     0   \n",
       "\n",
       "                                                   text                date  \n",
       "109   I used to work food service and my manager at ... 2013-01-27 17:54:54  \n",
       "1013  We have been trying Eggplant sandwiches all ov... 2015-04-15 04:50:56  \n",
       "1204  Amazing Steak and Cheese... Better than any Ph... 2011-03-20 00:57:45  \n",
       "1251  Although I have been going to DeFalco's for ye... 2018-07-17 01:48:23  \n",
       "1354  Highs: Ambience, value, pizza and deserts. Thi... 2018-01-21 10:52:58  "
      ]
     },
     "execution_count": 2,
     "metadata": {},
     "output_type": "execute_result"
    }
   ],
   "source": [
    "# Load in the data from JSON file\n",
    "data = pd.read_json('../input/nlp-course/restaurant.json')\n",
    "data.head()"
   ]
  },
  {
   "cell_type": "markdown",
   "id": "progressive-float",
   "metadata": {
    "papermill": {
     "duration": 0.0187,
     "end_time": "2021-05-17T11:28:05.404215",
     "exception": false,
     "start_time": "2021-05-17T11:28:05.385515",
     "status": "completed"
    },
    "tags": []
   },
   "source": [
    "The owner also gave you this list of menu items and common alternate spellings."
   ]
  },
  {
   "cell_type": "code",
   "execution_count": 3,
   "id": "early-modeling",
   "metadata": {
    "execution": {
     "iopub.execute_input": "2021-05-17T11:28:05.449557Z",
     "iopub.status.busy": "2021-05-17T11:28:05.448844Z",
     "iopub.status.idle": "2021-05-17T11:28:05.451630Z",
     "shell.execute_reply": "2021-05-17T11:28:05.451123Z"
    },
    "papermill": {
     "duration": 0.027978,
     "end_time": "2021-05-17T11:28:05.451808",
     "exception": false,
     "start_time": "2021-05-17T11:28:05.423830",
     "status": "completed"
    },
    "tags": []
   },
   "outputs": [],
   "source": [
    "menu = [\"Cheese Steak\", \"Cheesesteak\", \"Steak and Cheese\", \"Italian Combo\", \"Tiramisu\", \"Cannoli\",\n",
    "        \"Chicken Salad\", \"Chicken Spinach Salad\", \"Meatball\", \"Pizza\", \"Pizzas\", \"Spaghetti\",\n",
    "        \"Bruchetta\", \"Eggplant\", \"Italian Beef\", \"Purista\", \"Pasta\", \"Calzones\",  \"Calzone\",\n",
    "        \"Italian Sausage\", \"Chicken Cutlet\", \"Chicken Parm\", \"Chicken Parmesan\", \"Gnocchi\",\n",
    "        \"Chicken Pesto\", \"Turkey Sandwich\", \"Turkey Breast\", \"Ziti\", \"Portobello\", \"Reuben\",\n",
    "        \"Mozzarella Caprese\",  \"Corned Beef\", \"Garlic Bread\", \"Pastrami\", \"Roast Beef\",\n",
    "        \"Tuna Salad\", \"Lasagna\", \"Artichoke Salad\", \"Fettuccini Alfredo\", \"Chicken Parmigiana\",\n",
    "        \"Grilled Veggie\", \"Grilled Veggies\", \"Grilled Vegetable\", \"Mac and Cheese\", \"Macaroni\",  \n",
    "         \"Prosciutto\", \"Salami\"]"
   ]
  },
  {
   "cell_type": "markdown",
   "id": "synthetic-consideration",
   "metadata": {
    "papermill": {
     "duration": 0.019174,
     "end_time": "2021-05-17T11:28:05.490161",
     "exception": false,
     "start_time": "2021-05-17T11:28:05.470987",
     "status": "completed"
    },
    "tags": []
   },
   "source": [
    "# Step 1: Plan Your Analysis"
   ]
  },
  {
   "cell_type": "markdown",
   "id": "reflected-dollar",
   "metadata": {
    "papermill": {
     "duration": 0.019213,
     "end_time": "2021-05-17T11:28:05.528855",
     "exception": false,
     "start_time": "2021-05-17T11:28:05.509642",
     "status": "completed"
    },
    "tags": []
   },
   "source": [
    "Given the data from Yelp and the list of menu items, do you have any ideas for how you could find which menu items have disappointed diners?\n",
    "\n",
    "Think about your answer. Then run the cell below to see one approach."
   ]
  },
  {
   "cell_type": "code",
   "execution_count": 4,
   "id": "secure-blair",
   "metadata": {
    "execution": {
     "iopub.execute_input": "2021-05-17T11:28:05.574461Z",
     "iopub.status.busy": "2021-05-17T11:28:05.573653Z",
     "iopub.status.idle": "2021-05-17T11:28:05.579481Z",
     "shell.execute_reply": "2021-05-17T11:28:05.580070Z"
    },
    "papermill": {
     "duration": 0.031708,
     "end_time": "2021-05-17T11:28:05.580265",
     "exception": false,
     "start_time": "2021-05-17T11:28:05.548557",
     "status": "completed"
    },
    "tags": []
   },
   "outputs": [
    {
     "data": {
      "application/javascript": [
       "parent.postMessage({\"jupyterEvent\": \"custom.exercise_interaction\", \"data\": {\"interactionType\": 3, \"questionType\": 4, \"questionId\": \"1_MenuAnalysisPlan\", \"learnToolsVersion\": \"0.3.4\", \"valueTowardsCompletion\": 0.0, \"failureMessage\": \"\", \"exceptionClass\": \"\", \"trace\": \"\", \"outcomeType\": 4}}, \"*\")"
      ],
      "text/plain": [
       "<IPython.core.display.Javascript object>"
      ]
     },
     "metadata": {},
     "output_type": "display_data"
    },
    {
     "data": {
      "text/markdown": [
       "<span style=\"color:#33cc99\">Solution:</span> You could group reviews by what menu items they mention, and then calculate the average rating\n",
       "    for reviews that mentioned each item. You can tell which foods are mentioned in reviews with low scores,\n",
       "    so the restaurant can fix the recipe or remove those foods from the menu."
      ],
      "text/plain": [
       "Solution: You could group reviews by what menu items they mention, and then calculate the average rating\n",
       "    for reviews that mentioned each item. You can tell which foods are mentioned in reviews with low scores,\n",
       "    so the restaurant can fix the recipe or remove those foods from the menu."
      ]
     },
     "metadata": {},
     "output_type": "display_data"
    }
   ],
   "source": [
    "# Check your answer (Run this code cell to receive credit!)\n",
    "q_1.solution()"
   ]
  },
  {
   "cell_type": "markdown",
   "id": "proud-march",
   "metadata": {
    "papermill": {
     "duration": 0.02152,
     "end_time": "2021-05-17T11:28:05.622419",
     "exception": false,
     "start_time": "2021-05-17T11:28:05.600899",
     "status": "completed"
    },
    "tags": []
   },
   "source": [
    "# Step 2: Find items in one review\n",
    "\n",
    "You'll pursue this plan of calculating average scores of the reviews mentioning each menu item.\n",
    "\n",
    "As a first step, you'll write code to extract the foods mentioned in a single review.\n",
    "\n",
    "Since menu items are multiple tokens long, you'll use `PhraseMatcher` which can match series of tokens.\n",
    "\n",
    "Fill in the `____` values below to get a list of items matching a single menu item."
   ]
  },
  {
   "cell_type": "code",
   "execution_count": 5,
   "id": "opposed-nudist",
   "metadata": {
    "execution": {
     "iopub.execute_input": "2021-05-17T11:28:05.678233Z",
     "iopub.status.busy": "2021-05-17T11:28:05.677455Z",
     "iopub.status.idle": "2021-05-17T11:28:06.923443Z",
     "shell.execute_reply": "2021-05-17T11:28:06.923979Z"
    },
    "papermill": {
     "duration": 1.279035,
     "end_time": "2021-05-17T11:28:06.924167",
     "exception": false,
     "start_time": "2021-05-17T11:28:05.645132",
     "status": "completed"
    },
    "tags": []
   },
   "outputs": [
    {
     "data": {
      "application/javascript": [
       "parent.postMessage({\"jupyterEvent\": \"custom.exercise_interaction\", \"data\": {\"outcomeType\": 1, \"valueTowardsCompletion\": 0.2, \"interactionType\": 1, \"questionType\": 2, \"questionId\": \"2_SingleReviewMatch\", \"learnToolsVersion\": \"0.3.4\", \"failureMessage\": \"\", \"exceptionClass\": \"\", \"trace\": \"\"}}, \"*\")"
      ],
      "text/plain": [
       "<IPython.core.display.Javascript object>"
      ]
     },
     "metadata": {},
     "output_type": "display_data"
    },
    {
     "data": {
      "text/markdown": [
       "<span style=\"color:#33cc33\">Correct</span>"
      ],
      "text/plain": [
       "Correct"
      ]
     },
     "metadata": {},
     "output_type": "display_data"
    }
   ],
   "source": [
    "import spacy\n",
    "from spacy.matcher import PhraseMatcher\n",
    "\n",
    "index_of_review_to_test_on = 14\n",
    "text_to_test_on = data.text.iloc[index_of_review_to_test_on]\n",
    "\n",
    "# Load the SpaCy model\n",
    "nlp = spacy.blank('en')\n",
    "\n",
    "# Create the tokenized version of text_to_test_on\n",
    "review_doc =  nlp(text_to_test_on)\n",
    "\n",
    "# Create the PhraseMatcher object. The tokenizer is the first argument. Use attr = 'LOWER' to make consistent capitalization\n",
    "matcher = PhraseMatcher(nlp.vocab, attr='LOWER')\n",
    "\n",
    "# Create a list of tokens for each item in the menu\n",
    "menu_tokens_list = [nlp(item) for item in menu]\n",
    "\n",
    "# Add the item patterns to the matcher. \n",
    "\n",
    "# Look at https://spacy.io/api/phrasematcher#add in the docs for help with this step\n",
    "# Then uncomment the lines below \n",
    "\n",
    "matcher.add(\"MENU\",            # Just a name for the set of rules we're matching to\n",
    "        menu_tokens_list \n",
    "           )\n",
    "\n",
    "# Find matches in the review_doc\n",
    "matches = matcher(review_doc)\n",
    "\n",
    "# Uncomment to check your work\n",
    "q_2.check()"
   ]
  },
  {
   "cell_type": "code",
   "execution_count": 6,
   "id": "unable-african",
   "metadata": {
    "execution": {
     "iopub.execute_input": "2021-05-17T11:28:06.972089Z",
     "iopub.status.busy": "2021-05-17T11:28:06.971273Z",
     "iopub.status.idle": "2021-05-17T11:28:06.974439Z",
     "shell.execute_reply": "2021-05-17T11:28:06.973908Z"
    },
    "papermill": {
     "duration": 0.028829,
     "end_time": "2021-05-17T11:28:06.974593",
     "exception": false,
     "start_time": "2021-05-17T11:28:06.945764",
     "status": "completed"
    },
    "tags": []
   },
   "outputs": [],
   "source": [
    "# Lines below will give you a hint or solution code\n",
    "#q_2.hint()\n",
    "#q_2.solution()"
   ]
  },
  {
   "cell_type": "markdown",
   "id": "growing-staff",
   "metadata": {
    "papermill": {
     "duration": 0.021217,
     "end_time": "2021-05-17T11:28:07.018077",
     "exception": false,
     "start_time": "2021-05-17T11:28:06.996860",
     "status": "completed"
    },
    "tags": []
   },
   "source": [
    "After implementing the above cell, uncomment the following cell to print the matches."
   ]
  },
  {
   "cell_type": "code",
   "execution_count": 7,
   "id": "federal-attack",
   "metadata": {
    "execution": {
     "iopub.execute_input": "2021-05-17T11:28:07.070458Z",
     "iopub.status.busy": "2021-05-17T11:28:07.069142Z",
     "iopub.status.idle": "2021-05-17T11:28:07.075089Z",
     "shell.execute_reply": "2021-05-17T11:28:07.073951Z"
    },
    "papermill": {
     "duration": 0.03507,
     "end_time": "2021-05-17T11:28:07.075322",
     "exception": false,
     "start_time": "2021-05-17T11:28:07.040252",
     "status": "completed"
    },
    "tags": []
   },
   "outputs": [
    {
     "name": "stdout",
     "output_type": "stream",
     "text": [
      "Token number 2: Purista\n",
      "Token number 16: prosciutto\n",
      "Token number 58: meatball\n"
     ]
    }
   ],
   "source": [
    "for match in matches:\n",
    "    print(f\"Token number {match[1]}: {review_doc[match[1]:match[2]]}\")"
   ]
  },
  {
   "cell_type": "markdown",
   "id": "lovely-advancement",
   "metadata": {
    "papermill": {
     "duration": 0.022456,
     "end_time": "2021-05-17T11:28:07.121702",
     "exception": false,
     "start_time": "2021-05-17T11:28:07.099246",
     "status": "completed"
    },
    "tags": []
   },
   "source": [
    "# Step 3: Matching on the whole dataset\n",
    "\n",
    "Now run this matcher over the whole dataset and collect ratings for each menu item. Each review has a rating, `review.stars`. For each item that appears in the review text (`review.text`), append the review's rating to a list of ratings for that item. The lists are kept in a dictionary `item_ratings`.\n",
    "\n",
    "To get the matched phrases, you can reference the `PhraseMatcher` documentation for the structure of each match object:\n",
    "\n",
    ">A list of `(match_id, start, end)` tuples, describing the matches. A match tuple describes a span `doc[start:end]`. The `match_id` is the ID of the added match pattern."
   ]
  },
  {
   "cell_type": "code",
   "execution_count": 8,
   "id": "lyric-offense",
   "metadata": {
    "execution": {
     "iopub.execute_input": "2021-05-17T11:28:07.178987Z",
     "iopub.status.busy": "2021-05-17T11:28:07.173355Z",
     "iopub.status.idle": "2021-05-17T11:28:08.137585Z",
     "shell.execute_reply": "2021-05-17T11:28:08.137061Z"
    },
    "papermill": {
     "duration": 0.993237,
     "end_time": "2021-05-17T11:28:08.137718",
     "exception": false,
     "start_time": "2021-05-17T11:28:07.144481",
     "status": "completed"
    },
    "tags": []
   },
   "outputs": [
    {
     "data": {
      "application/javascript": [
       "parent.postMessage({\"jupyterEvent\": \"custom.exercise_interaction\", \"data\": {\"outcomeType\": 1, \"valueTowardsCompletion\": 0.2, \"interactionType\": 1, \"questionType\": 2, \"questionId\": \"3_MatchAllDataset\", \"learnToolsVersion\": \"0.3.4\", \"failureMessage\": \"\", \"exceptionClass\": \"\", \"trace\": \"\"}}, \"*\")"
      ],
      "text/plain": [
       "<IPython.core.display.Javascript object>"
      ]
     },
     "metadata": {},
     "output_type": "display_data"
    },
    {
     "data": {
      "text/markdown": [
       "<span style=\"color:#33cc33\">Correct</span>"
      ],
      "text/plain": [
       "Correct"
      ]
     },
     "metadata": {},
     "output_type": "display_data"
    }
   ],
   "source": [
    "from collections import defaultdict\n",
    "\n",
    "# item_ratings is a dictionary of lists. If a key doesn't exist in item_ratings,\n",
    "# the key is added with an empty list as the value.\n",
    "item_ratings = defaultdict(list)\n",
    "\n",
    "for idx, review in data.iterrows():\n",
    "    doc = nlp(review.text)\n",
    "    # Using the matcher from the previous exercise\n",
    "    matches = matcher(doc)\n",
    "    \n",
    "    # Create a set of the items found in the review text\n",
    "    found_items = set([doc[match[1]:match[2]].lower_ for match in matches])\n",
    "    \n",
    "    # Update item_ratings with rating for each item in found_items\n",
    "    # Transform the item strings to lowercase to make it case insensitive\n",
    "    for item in found_items:\n",
    "        item_ratings[item].append(review.stars)\n",
    "\n",
    "q_3.check()"
   ]
  },
  {
   "cell_type": "code",
   "execution_count": 9,
   "id": "exterior-holiday",
   "metadata": {
    "execution": {
     "iopub.execute_input": "2021-05-17T11:28:08.189293Z",
     "iopub.status.busy": "2021-05-17T11:28:08.188486Z",
     "iopub.status.idle": "2021-05-17T11:28:08.191821Z",
     "shell.execute_reply": "2021-05-17T11:28:08.191296Z"
    },
    "papermill": {
     "duration": 0.030782,
     "end_time": "2021-05-17T11:28:08.191965",
     "exception": false,
     "start_time": "2021-05-17T11:28:08.161183",
     "status": "completed"
    },
    "tags": []
   },
   "outputs": [],
   "source": [
    "# Lines below will give you a hint or solution code\n",
    "#q_3.hint()\n",
    "#q_3.solution()"
   ]
  },
  {
   "cell_type": "markdown",
   "id": "expired-creature",
   "metadata": {
    "papermill": {
     "duration": 0.026326,
     "end_time": "2021-05-17T11:28:08.246541",
     "exception": false,
     "start_time": "2021-05-17T11:28:08.220215",
     "status": "completed"
    },
    "tags": []
   },
   "source": [
    "# Step 4: What's the worst reviewed item?\n",
    "\n",
    "Using these item ratings, find the menu item with the worst average rating."
   ]
  },
  {
   "cell_type": "code",
   "execution_count": 10,
   "id": "colored-superintendent",
   "metadata": {
    "execution": {
     "iopub.execute_input": "2021-05-17T11:28:08.327305Z",
     "iopub.status.busy": "2021-05-17T11:28:08.326373Z",
     "iopub.status.idle": "2021-05-17T11:28:08.334630Z",
     "shell.execute_reply": "2021-05-17T11:28:08.334076Z"
    },
    "papermill": {
     "duration": 0.049026,
     "end_time": "2021-05-17T11:28:08.334807",
     "exception": false,
     "start_time": "2021-05-17T11:28:08.285781",
     "status": "completed"
    },
    "tags": []
   },
   "outputs": [
    {
     "name": "stdout",
     "output_type": "stream",
     "text": [
      "{'chicken parmigiana': 4.470588235294118, 'eggplant': 4.159420289855072, 'steak and cheese': 4.888888888888889, 'pizza': 4.339622641509434, 'meatball': 4.1796875, 'cannoli': 4.388888888888889, 'pasta': 4.407766990291262, 'purista': 4.666666666666667, 'prosciutto': 4.68, 'cheese steak': 4.447368421052632, 'cheesesteak': 4.484536082474227, 'calzone': 4.444444444444445, 'tiramisu': 4.238095238095238, 'italian combo': 4.0476190476190474, 'chicken spinach salad': 4.5, 'italian beef': 3.92, 'salami': 4.25, 'chicken parm': 4.22, 'chicken pesto': 4.555555555555555, 'tuna salad': 4.0, 'turkey sandwich': 3.8, 'ziti': 4.380952380952381, 'chicken cutlet': 3.4, 'artichoke salad': 5.0, 'lasagna': 4.4576271186440675, 'fettuccini alfredo': 5.0, 'pizzas': 4.375, 'turkey breast': 5.0, 'calzones': 4.542857142857143, 'mac and cheese': 4.454545454545454, 'grilled veggie': 4.5, 'garlic bread': 4.128205128205129, 'spaghetti': 3.888888888888889, 'italian sausage': 4.30188679245283, 'portobello': 4.5, 'pastrami': 4.444444444444445, 'reuben': 4.75, 'gnocchi': 4.486486486486487, 'chicken parmesan': 4.2631578947368425, 'macaroni': 4.0, 'chicken salad': 4.6, 'roast beef': 4.142857142857143, 'corned beef': 5.0}\n",
      "['artichoke salad', 'fettuccini alfredo', 'turkey breast', 'corned beef', 'steak and cheese', 'reuben', 'prosciutto', 'purista', 'chicken salad', 'chicken pesto', 'calzones', 'chicken spinach salad', 'grilled veggie', 'portobello', 'gnocchi', 'cheesesteak', 'chicken parmigiana', 'lasagna', 'mac and cheese', 'cheese steak', 'calzone', 'pastrami', 'pasta', 'cannoli', 'ziti', 'pizzas', 'pizza', 'italian sausage', 'chicken parmesan', 'salami', 'tiramisu', 'chicken parm', 'meatball', 'eggplant', 'roast beef', 'garlic bread', 'italian combo', 'tuna salad', 'macaroni', 'italian beef', 'spaghetti', 'turkey sandwich', 'chicken cutlet']\n",
      "chicken cutlet\n"
     ]
    },
    {
     "data": {
      "application/javascript": [
       "parent.postMessage({\"jupyterEvent\": \"custom.exercise_interaction\", \"data\": {\"outcomeType\": 1, \"valueTowardsCompletion\": 0.2, \"interactionType\": 1, \"questionType\": 1, \"questionId\": \"4_WorstReviewedItem\", \"learnToolsVersion\": \"0.3.4\", \"failureMessage\": \"\", \"exceptionClass\": \"\", \"trace\": \"\"}}, \"*\")"
      ],
      "text/plain": [
       "<IPython.core.display.Javascript object>"
      ]
     },
     "metadata": {},
     "output_type": "display_data"
    },
    {
     "data": {
      "text/markdown": [
       "<span style=\"color:#33cc33\">Correct</span>"
      ],
      "text/plain": [
       "Correct"
      ]
     },
     "metadata": {},
     "output_type": "display_data"
    }
   ],
   "source": [
    "# Calculate the mean ratings for each menu item as a dictionary\n",
    "\n",
    "mean_ratings = {item: sum(ratings)/len(ratings) for item, ratings in item_ratings.items()}\n",
    "print(mean_ratings)\n",
    "print(sorted(mean_ratings, key=mean_ratings.get, reverse=True))\n",
    "# Find the worst item, and write it as a string in worst_item. This can be multiple lines of code if you want.\n",
    "worst_item = sorted(mean_ratings, key=mean_ratings.get)[0]\n",
    "print(worst_item)\n",
    "best_item = sorted(mean_ratings, key=mean_ratings.get)[-1]\n",
    "q_4.check()"
   ]
  },
  {
   "cell_type": "code",
   "execution_count": 11,
   "id": "thermal-matrix",
   "metadata": {
    "execution": {
     "iopub.execute_input": "2021-05-17T11:28:08.391042Z",
     "iopub.status.busy": "2021-05-17T11:28:08.390186Z",
     "iopub.status.idle": "2021-05-17T11:28:08.400182Z",
     "shell.execute_reply": "2021-05-17T11:28:08.400667Z"
    },
    "papermill": {
     "duration": 0.04027,
     "end_time": "2021-05-17T11:28:08.400889",
     "exception": false,
     "start_time": "2021-05-17T11:28:08.360619",
     "status": "completed"
    },
    "tags": []
   },
   "outputs": [
    {
     "data": {
      "application/javascript": [
       "parent.postMessage({\"jupyterEvent\": \"custom.exercise_interaction\", \"data\": {\"interactionType\": 2, \"questionType\": 1, \"questionId\": \"4_WorstReviewedItem\", \"learnToolsVersion\": \"0.3.4\", \"valueTowardsCompletion\": 0.0, \"failureMessage\": \"\", \"exceptionClass\": \"\", \"trace\": \"\", \"outcomeType\": 4}}, \"*\")"
      ],
      "text/plain": [
       "<IPython.core.display.Javascript object>"
      ]
     },
     "metadata": {},
     "output_type": "display_data"
    },
    {
     "data": {
      "text/markdown": [
       "<span style=\"color:#3366cc\">Hint:</span> Loop through each item in item_ratings and calculate the mean, the sum of the ratings divided by the number of ratings. This is easiest using a dictionary comprehension. Then use the `sorted` function to sort the dictionary keys based on the dictionary values."
      ],
      "text/plain": [
       "Hint: Loop through each item in item_ratings and calculate the mean, the sum of the ratings divided by the number of ratings. This is easiest using a dictionary comprehension. Then use the `sorted` function to sort the dictionary keys based on the dictionary values."
      ]
     },
     "metadata": {},
     "output_type": "display_data"
    },
    {
     "data": {
      "application/javascript": [
       "parent.postMessage({\"jupyterEvent\": \"custom.exercise_interaction\", \"data\": {\"interactionType\": 3, \"questionType\": 1, \"questionId\": \"4_WorstReviewedItem\", \"learnToolsVersion\": \"0.3.4\", \"valueTowardsCompletion\": 0.0, \"failureMessage\": \"\", \"exceptionClass\": \"\", \"trace\": \"\", \"outcomeType\": 4}}, \"*\")"
      ],
      "text/plain": [
       "<IPython.core.display.Javascript object>"
      ]
     },
     "metadata": {},
     "output_type": "display_data"
    },
    {
     "data": {
      "text/markdown": [
       "<span style=\"color:#33cc99\">Solution:</span> \n",
       "```python\n",
       "\n",
       "# There are many ways to do this. Here is one.\n",
       "mean_ratings = {item: sum(ratings)/len(ratings) for item, ratings in item_ratings.items()}\n",
       "worst_item = sorted(mean_ratings, key=mean_ratings.get)[0]\n",
       "\n",
       "```"
      ],
      "text/plain": [
       "Solution: \n",
       "```python\n",
       "\n",
       "# There are many ways to do this. Here is one.\n",
       "mean_ratings = {item: sum(ratings)/len(ratings) for item, ratings in item_ratings.items()}\n",
       "worst_item = sorted(mean_ratings, key=mean_ratings.get)[0]\n",
       "\n",
       "```"
      ]
     },
     "metadata": {},
     "output_type": "display_data"
    }
   ],
   "source": [
    "# Lines below will give you a hint or solution code\n",
    "q_4.hint()\n",
    "q_4.solution()"
   ]
  },
  {
   "cell_type": "code",
   "execution_count": 12,
   "id": "palestinian-former",
   "metadata": {
    "execution": {
     "iopub.execute_input": "2021-05-17T11:28:08.461060Z",
     "iopub.status.busy": "2021-05-17T11:28:08.460174Z",
     "iopub.status.idle": "2021-05-17T11:28:08.463471Z",
     "shell.execute_reply": "2021-05-17T11:28:08.464009Z"
    },
    "papermill": {
     "duration": 0.036282,
     "end_time": "2021-05-17T11:28:08.464188",
     "exception": false,
     "start_time": "2021-05-17T11:28:08.427906",
     "status": "completed"
    },
    "tags": []
   },
   "outputs": [
    {
     "name": "stdout",
     "output_type": "stream",
     "text": [
      "chicken cutlet\n",
      "3.4\n"
     ]
    }
   ],
   "source": [
    "# After implementing the above cell, uncomment and run this to print \n",
    "# out the worst item, along with its average rating. \n",
    "\n",
    "print(worst_item)\n",
    "print(mean_ratings[worst_item])"
   ]
  },
  {
   "cell_type": "markdown",
   "id": "certain-simon",
   "metadata": {
    "papermill": {
     "duration": 0.027672,
     "end_time": "2021-05-17T11:28:08.519353",
     "exception": false,
     "start_time": "2021-05-17T11:28:08.491681",
     "status": "completed"
    },
    "tags": []
   },
   "source": [
    "# Step 5: Are counts important here?\n",
    "\n",
    "Similar to the mean ratings, you can calculate the number of reviews for each item."
   ]
  },
  {
   "cell_type": "code",
   "execution_count": 13,
   "id": "supported-graham",
   "metadata": {
    "execution": {
     "iopub.execute_input": "2021-05-17T11:28:08.584189Z",
     "iopub.status.busy": "2021-05-17T11:28:08.583180Z",
     "iopub.status.idle": "2021-05-17T11:28:08.592265Z",
     "shell.execute_reply": "2021-05-17T11:28:08.591341Z"
    },
    "papermill": {
     "duration": 0.044415,
     "end_time": "2021-05-17T11:28:08.592481",
     "exception": false,
     "start_time": "2021-05-17T11:28:08.548066",
     "status": "completed"
    },
    "tags": []
   },
   "outputs": [
    {
     "name": "stdout",
     "output_type": "stream",
     "text": [
      "                    pizza  265\n",
      "                    pasta  206\n",
      "                 meatball  128\n",
      "              cheesesteak   97\n",
      "             cheese steak   76\n",
      "                  cannoli   72\n",
      "                  calzone   72\n",
      "                 eggplant   69\n",
      "                  purista   63\n",
      "                  lasagna   59\n",
      "          italian sausage   53\n",
      "               prosciutto   50\n",
      "             chicken parm   50\n",
      "             garlic bread   39\n",
      "                  gnocchi   37\n",
      "                spaghetti   36\n",
      "                 calzones   35\n",
      "                   pizzas   32\n",
      "                   salami   28\n",
      "            chicken pesto   27\n",
      "             italian beef   25\n",
      "                 tiramisu   21\n",
      "            italian combo   21\n",
      "                     ziti   21\n",
      "         chicken parmesan   19\n",
      "       chicken parmigiana   17\n",
      "               portobello   14\n",
      "           mac and cheese   11\n",
      "           chicken cutlet   10\n",
      "         steak and cheese    9\n",
      "                 pastrami    9\n",
      "               roast beef    7\n",
      "       fettuccini alfredo    6\n",
      "           grilled veggie    6\n",
      "               tuna salad    5\n",
      "          turkey sandwich    5\n",
      "          artichoke salad    5\n",
      "                 macaroni    5\n",
      "            chicken salad    5\n",
      "                   reuben    4\n",
      "    chicken spinach salad    2\n",
      "              corned beef    2\n",
      "            turkey breast    1\n"
     ]
    }
   ],
   "source": [
    "counts = {item: len(ratings) for item, ratings in item_ratings.items()}\n",
    "\n",
    "item_counts = sorted(counts, key=counts.get, reverse=True)\n",
    "for item in item_counts:\n",
    "    print(f\"{item:>25}{counts[item]:>5}\")"
   ]
  },
  {
   "cell_type": "markdown",
   "id": "consolidated-election",
   "metadata": {
    "papermill": {
     "duration": 0.029148,
     "end_time": "2021-05-17T11:28:08.650674",
     "exception": false,
     "start_time": "2021-05-17T11:28:08.621526",
     "status": "completed"
    },
    "tags": []
   },
   "source": [
    "Here is code to print the 10 best and 10 worst rated items. Look at the results, and decide whether you think it's important to consider the number of reviews when interpreting scores of which items are best and worst."
   ]
  },
  {
   "cell_type": "code",
   "execution_count": 14,
   "id": "further-submission",
   "metadata": {
    "execution": {
     "iopub.execute_input": "2021-05-17T11:28:08.714976Z",
     "iopub.status.busy": "2021-05-17T11:28:08.714103Z",
     "iopub.status.idle": "2021-05-17T11:28:08.718110Z",
     "shell.execute_reply": "2021-05-17T11:28:08.717503Z"
    },
    "papermill": {
     "duration": 0.039542,
     "end_time": "2021-05-17T11:28:08.718256",
     "exception": false,
     "start_time": "2021-05-17T11:28:08.678714",
     "status": "completed"
    },
    "tags": []
   },
   "outputs": [
    {
     "name": "stdout",
     "output_type": "stream",
     "text": [
      "Worst rated menu items:\n",
      "chicken cutlet       Ave rating: 3.40 \tcount: 10\n",
      "turkey sandwich      Ave rating: 3.80 \tcount: 5\n",
      "spaghetti            Ave rating: 3.89 \tcount: 36\n",
      "italian beef         Ave rating: 3.92 \tcount: 25\n",
      "tuna salad           Ave rating: 4.00 \tcount: 5\n",
      "macaroni             Ave rating: 4.00 \tcount: 5\n",
      "italian combo        Ave rating: 4.05 \tcount: 21\n",
      "garlic bread         Ave rating: 4.13 \tcount: 39\n",
      "roast beef           Ave rating: 4.14 \tcount: 7\n",
      "eggplant             Ave rating: 4.16 \tcount: 69\n",
      "\n",
      "\n",
      "Best rated menu items:\n",
      "chicken pesto        Ave rating: 4.56 \tcount: 27\n",
      "chicken salad        Ave rating: 4.60 \tcount: 5\n",
      "purista              Ave rating: 4.67 \tcount: 63\n",
      "prosciutto           Ave rating: 4.68 \tcount: 50\n",
      "reuben               Ave rating: 4.75 \tcount: 4\n",
      "steak and cheese     Ave rating: 4.89 \tcount: 9\n",
      "artichoke salad      Ave rating: 5.00 \tcount: 5\n",
      "fettuccini alfredo   Ave rating: 5.00 \tcount: 6\n",
      "turkey breast        Ave rating: 5.00 \tcount: 1\n",
      "corned beef          Ave rating: 5.00 \tcount: 2\n"
     ]
    }
   ],
   "source": [
    "sorted_ratings = sorted(mean_ratings, key=mean_ratings.get)\n",
    "\n",
    "print(\"Worst rated menu items:\")\n",
    "for item in sorted_ratings[:10]:\n",
    "    print(f\"{item:20} Ave rating: {mean_ratings[item]:.2f} \\tcount: {counts[item]}\")\n",
    "    \n",
    "print(\"\\n\\nBest rated menu items:\")\n",
    "for item in sorted_ratings[-10:]:\n",
    "    print(f\"{item:20} Ave rating: {mean_ratings[item]:.2f} \\tcount: {counts[item]}\")"
   ]
  },
  {
   "cell_type": "markdown",
   "id": "weighted-monster",
   "metadata": {
    "papermill": {
     "duration": 0.027984,
     "end_time": "2021-05-17T11:28:08.776219",
     "exception": false,
     "start_time": "2021-05-17T11:28:08.748235",
     "status": "completed"
    },
    "tags": []
   },
   "source": [
    "Run the following line after you've decided your answer."
   ]
  },
  {
   "cell_type": "code",
   "execution_count": 15,
   "id": "northern-invention",
   "metadata": {
    "execution": {
     "iopub.execute_input": "2021-05-17T11:28:08.840368Z",
     "iopub.status.busy": "2021-05-17T11:28:08.839549Z",
     "iopub.status.idle": "2021-05-17T11:28:08.845218Z",
     "shell.execute_reply": "2021-05-17T11:28:08.844515Z"
    },
    "papermill": {
     "duration": 0.039873,
     "end_time": "2021-05-17T11:28:08.845422",
     "exception": false,
     "start_time": "2021-05-17T11:28:08.805549",
     "status": "completed"
    },
    "tags": []
   },
   "outputs": [
    {
     "data": {
      "application/javascript": [
       "parent.postMessage({\"jupyterEvent\": \"custom.exercise_interaction\", \"data\": {\"interactionType\": 3, \"questionType\": 4, \"questionId\": \"5_CountImportanceQuestion\", \"learnToolsVersion\": \"0.3.4\", \"valueTowardsCompletion\": 0.0, \"failureMessage\": \"\", \"exceptionClass\": \"\", \"trace\": \"\", \"outcomeType\": 4}}, \"*\")"
      ],
      "text/plain": [
       "<IPython.core.display.Javascript object>"
      ]
     },
     "metadata": {},
     "output_type": "display_data"
    },
    {
     "data": {
      "text/markdown": [
       "<span style=\"color:#33cc99\">Solution:</span> \n",
       "    The less data you have for any specific item, the less you can trust that the average rating is the \"real\" sentiment of the customers. This is fairly common sense. If more people tell you the same thing, you're more likely to believe it. It's also mathematically sound. As the number of data points increases, the error on the mean decreases as 1 / sqrt(n).\n",
       "    "
      ],
      "text/plain": [
       "Solution: \n",
       "    The less data you have for any specific item, the less you can trust that the average rating is the \"real\" sentiment of the customers. This is fairly common sense. If more people tell you the same thing, you're more likely to believe it. It's also mathematically sound. As the number of data points increases, the error on the mean decreases as 1 / sqrt(n).\n",
       "    "
      ]
     },
     "metadata": {},
     "output_type": "display_data"
    }
   ],
   "source": [
    "# Check your answer (Run this code cell to receive credit!)\n",
    "q_5.solution()"
   ]
  },
  {
   "cell_type": "markdown",
   "id": "organized-johnson",
   "metadata": {
    "papermill": {
     "duration": 0.031414,
     "end_time": "2021-05-17T11:28:08.908064",
     "exception": false,
     "start_time": "2021-05-17T11:28:08.876650",
     "status": "completed"
    },
    "tags": []
   },
   "source": [
    "# Keep Going\n",
    "\n",
    "Now that you are ready to combine your NLP skills with your ML skills, **[see how it's done](https://www.kaggle.com/matleonard/text-classification)**."
   ]
  },
  {
   "cell_type": "markdown",
   "id": "extraordinary-credits",
   "metadata": {
    "papermill": {
     "duration": 0.030493,
     "end_time": "2021-05-17T11:28:08.971206",
     "exception": false,
     "start_time": "2021-05-17T11:28:08.940713",
     "status": "completed"
    },
    "tags": []
   },
   "source": [
    "---\n",
    "\n",
    "\n",
    "\n",
    "\n",
    "*Have questions or comments? Visit the [Learn Discussion forum](https://www.kaggle.com/learn-forum/161466) to chat with other Learners.*"
   ]
  }
 ],
 "metadata": {
  "kernelspec": {
   "display_name": "Python 3",
   "language": "python",
   "name": "python3"
  },
  "language_info": {
   "codemirror_mode": {
    "name": "ipython",
    "version": 3
   },
   "file_extension": ".py",
   "mimetype": "text/x-python",
   "name": "python",
   "nbconvert_exporter": "python",
   "pygments_lexer": "ipython3",
   "version": "3.7.9"
  },
  "papermill": {
   "default_parameters": {},
   "duration": 11.281395,
   "end_time": "2021-05-17T11:28:09.611038",
   "environment_variables": {},
   "exception": null,
   "input_path": "__notebook__.ipynb",
   "output_path": "__notebook__.ipynb",
   "parameters": {},
   "start_time": "2021-05-17T11:27:58.329643",
   "version": "2.3.2"
  }
 },
 "nbformat": 4,
 "nbformat_minor": 5
}
